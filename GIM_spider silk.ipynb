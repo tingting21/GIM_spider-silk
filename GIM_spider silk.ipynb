{
 "cells": [
  {
   "cell_type": "code",
   "execution_count": 1,
   "metadata": {},
   "outputs": [
    {
     "name": "stdout",
     "output_type": "stream",
     "text": [
      "[0.01422545 0.02834971 0.04237321]\n",
      "[0.001 0.002 0.003]\n",
      "[14.22545385 14.17485351 14.12440349]\n",
      "f_ord : 14.07387831433407\n"
     ]
    },
    {
     "data": {
      "image/png": "[encoded data removed]",
      "text/plain": [
       "<Figure size 432x288 with 1 Axes>"
      ]
     },
     "metadata": {
      "needs_background": "light"
     },
     "output_type": "display_data"
    }
   ],
   "source": [
    "###########################################initial young's modulus of spider silk##############################################\n",
    "import pandas as pd\n",
    "import numpy as np\n",
    "import matplotlib.pyplot as plt\n",
    "%matplotlib inline\n",
    "import math\n",
    "\n",
    "f_ord10 = 1#ordered fraction\n",
    "vw = 40 #van der waal's volume cc/mol\n",
    "v0 = 1.26*vw #volume at the minimm potential well\n",
    "Ec = f_ord10*52000 + (1-f_ord10)*42000 #cohensive energy fraction of ordered = 0.66\n",
    "E0 = Ec/(4.5*10**23)#potential energy at absolute temperature\n",
    "N = 10 #degree of freedom\n",
    "dt = 400 #debye temperature\n",
    "M = 72 #molecular weight\n",
    "k = 1.380649*10**-23 #boltzmann constant J/k\n",
    "A = 1.5 #parameter A about 1.5kGpa\n",
    "R =8.314 \n",
    "\n",
    "E_f = []\n",
    "b_f = []\n",
    "v_f = []\n",
    "T = []\n",
    "H_f = []\n",
    "E_M_f = []\n",
    "e_f = []\n",
    "ee_f = []\n",
    "strain_f0 = []\n",
    "stress_f0 = []\n",
    "\n",
    "from scipy.integrate import quad\n",
    "\n",
    "def f1(t, N, dt, Ec):#stress\n",
    "    Ht = (N/3)*k*(t - (dt/6.7)*(math.atan((6.7*t)/dt)))\n",
    "    v = 1.26*vw*((1-((0.106*(1-f_ord10)+0.04*f_ord10)+(Ht/E0))**0.5)**(-1/3))\n",
    "    #total energy\n",
    "    r = v0/v\n",
    "    E_t = abs(E0*((r**6)-2*(r**3))*4.5*10**23)#calculate energy total\n",
    "    #bulk modulus\n",
    "    b = (18*E_t)/(v*1000)\n",
    "    x = (1-f_ord10)*(19)/(A*b) #19 no need to*0.5 due hydrocarbon_all is 19\n",
    "    ten = b*math.exp(-x)*0.0001\n",
    "    return (ten)\n",
    "\n",
    "for i in range(3):\n",
    "    strain = 0.0001*(i+1)*10\n",
    "    stress_t = quad(f1, 0+273, 0+(i+1)*10+273, args=(N, dt, Ec))[0]\n",
    "    strain_f0 = np.append(strain_f0,strain)\n",
    "    stress_f0 = np.append(stress_f0,stress_t)\n",
    "    \n",
    "print(stress_f0)  \n",
    "print(strain_f0)\n",
    "print(stress_f0/strain_f0)\n",
    "\n",
    "strain_f0 = np.array(strain_f0)\n",
    "stress_f0 = np.array(stress_f0)\n",
    "\n",
    "\n",
    "plt.plot(strain_f0,stress_f0)\n",
    "\n",
    "slope1, intercept = np.polyfit(strain_f0,stress_f0, 1)\n",
    "print('f_ord :',slope1)\n",
    "    \n"
   ]
  },
  {
   "cell_type": "code",
   "execution_count": 4,
   "metadata": {},
   "outputs": [
    {
     "name": "stdout",
     "output_type": "stream",
     "text": [
      "[0.001 0.002 0.003]\n",
      "[0.01072837 0.02135419 0.03187795]\n",
      "[10.72836901 10.67709701 10.625984  ]\n",
      "f_ord : 10.574791498438119\n"
     ]
    },
    {
     "data": {
      "image/png": "[encoded data removed]",
      "text/plain": [
       "<Figure size 432x288 with 1 Axes>"
      ]
     },
     "metadata": {
      "needs_background": "light"
     },
     "output_type": "display_data"
    }
   ],
   "source": [
    "##################################post-yield modulus of spider silk#############################################################\n",
    "import pandas as pd\n",
    "import numpy as np\n",
    "import matplotlib.pyplot as plt\n",
    "%matplotlib inline\n",
    "import math\n",
    "\n",
    "f_ord10 = 1#ordered fraction\n",
    "vw = 40 #van der waal's volume cc/mol\n",
    "v0 = 1.26*vw #volume at the minimm potential well\n",
    "Ec = f_ord10*52000 + (1-f_ord10)*42000 #cohensive energy fraction of ordered = 0.66\n",
    "E0 = Ec/(4.5*10**23)#potential energy at absolute temperature\n",
    "N = 12 #degree of freedom\n",
    "dt = 400 #debye temperature\n",
    "M = 72 #molecular weight\n",
    "k = 1.380649*10**-23 #boltzmann constant J/k\n",
    "A = 1.5 #parameter A about 1.5kGpa\n",
    "R =8.314 \n",
    "\n",
    "E_f = []\n",
    "b_f = []\n",
    "v_f = []\n",
    "T = []\n",
    "H_f = []\n",
    "E_M_f = []\n",
    "e_f = []\n",
    "ee_f = []\n",
    "strain_f0 = []\n",
    "stress_f0 = []\n",
    "\n",
    "from scipy.integrate import quad\n",
    "\n",
    "def f1(t, N, dt, Ec):#stress\n",
    "    Ht = (N/3)*k*(t - (dt/6.7)*(math.atan((6.7*t)/dt)))\n",
    "    v = 1.26*vw*((1-((0.106*(1-f_ord10)+0.04*f_ord10)+(Ht/E0))**0.5)**(-1/3))\n",
    "    #total energy\n",
    "    r = v0/v\n",
    "    E_t = abs(E0*((r**6)-2*(r**3))*4.5*10**23)#calculate energy total\n",
    "    #bulk modulus\n",
    "    b = (18*E_t)/(v*1000)\n",
    "    x = (1-f_ord10)*(45/(A*b)) #(0.0085*cn/Nn)*0.5 = 45 not 44 \n",
    "    ten = b*math.exp(-x)*0.0001\n",
    "    return (ten)   \n",
    "\n",
    "for i in range(3):\n",
    "    strain = 0.0001*(i+1)*10\n",
    "    stress_t = quad(f1, 280+273,280+(i+1)*10+273, args=(N, dt, Ec))[0]\n",
    "    strain_f0 = np.append(strain_f0,strain)\n",
    "    stress_f0 = np.append(stress_f0,stress_t)\n",
    "\n",
    "    \n",
    "strain_f0 = np.array(strain_f0)\n",
    "stress_f0 = np.array(stress_f0)\n",
    "print(strain_f0)\n",
    "print(stress_f0)\n",
    "print(stress_f0/strain_f0)\n",
    "\n",
    "plt.plot(strain_f0,stress_f0)\n",
    "\n",
    "slope1, intercept = np.polyfit(strain_f0,stress_f0, 1)\n",
    "print('f_ord :',slope1)\n",
    "    \n"
   ]
  },
  {
   "cell_type": "code",
   "execution_count": null,
   "metadata": {},
   "outputs": [],
   "source": []
  }
 ],
 "metadata": {
  "kernelspec": {
   "display_name": "Python 3",
   "language": "python",
   "name": "python3"
  },
  "language_info": {
   "codemirror_mode": {
    "name": "ipython",
    "version": 3
   },
   "file_extension": ".py",
   "mimetype": "text/x-python",
   "name": "python",
   "nbconvert_exporter": "python",
   "pygments_lexer": "ipython3",
   "version": "3.7.6"
  }
 },
 "nbformat": 4,
 "nbformat_minor": 4
}
